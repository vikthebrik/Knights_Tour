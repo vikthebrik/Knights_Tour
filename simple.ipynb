{
 "cells": [
  {
   "cell_type": "code",
   "execution_count": 2,
   "metadata": {},
   "outputs": [],
   "source": [
    "def knights_tour(n, start_row, start_col):\n",
    "    # Define the 8 possible moves for a knight\n",
    "    moves = [\n",
    "        (2, 1), (1, 2), (-1, 2), (-2, 1),\n",
    "        (-2, -1), (-1, -2), (1, -2), (2, -1)\n",
    "    ]\n",
    "\n",
    "    # Initialize the chessboard with -1 to mark unvisited cells\n",
    "    board = [[-1 for _ in range(n)] for _ in range(n)]\n",
    "\n",
    "    # Check if the move is within bounds and unvisited\n",
    "    def is_valid_move(x, y):\n",
    "        return 0 <= x < n and 0 <= y < n and board[x][y] == -1\n",
    "\n",
    "    # Recursive DFS function to perform the Knight's Tour\n",
    "    def dfs(x, y, move_count):\n",
    "        # Place the current move count on the board\n",
    "        board[x][y] = move_count\n",
    "\n",
    "        # If all cells have been visited, return True\n",
    "        if move_count == n * n - 1:\n",
    "            return True\n",
    "\n",
    "        # Try all possible knight moves\n",
    "        for dx, dy in moves:\n",
    "            next_x, next_y = x + dx, y + dy\n",
    "            if is_valid_move(next_x, next_y):\n",
    "                if dfs(next_x, next_y, move_count + 1):\n",
    "                    return True\n",
    "\n",
    "        # Backtrack: unmark the current cell\n",
    "        board[x][y] = -1\n",
    "        return False\n",
    "\n",
    "    # Start the DFS from the given starting position\n",
    "    if dfs(start_row, start_col, 0):\n",
    "        return board\n",
    "    else:\n",
    "        return None\n"
   ]
  },
  {
   "cell_type": "code",
   "execution_count": 3,
   "metadata": {},
   "outputs": [
    {
     "name": "stdout",
     "output_type": "stream",
     "text": [
      " 0 59 38 33 30 17  8 63\n",
      "37 34 31 60  9 62 29 16\n",
      "58  1 36 39 32 27 18  7\n",
      "35 48 41 26 61 10 15 28\n",
      "42 57  2 49 40 23  6 19\n",
      "47 50 45 54 25 20 11 14\n",
      "56 43 52  3 22 13 24  5\n",
      "51 46 55 44 53  4 21 12\n"
     ]
    }
   ],
   "source": [
    "\n",
    "# Specify the board size and starting position\n",
    "n = 8\n",
    "start_corner = (0, 0)  # Top-left corner, can be changed to other corners\n",
    "result = knights_tour(n, start_corner[0], start_corner[1])\n",
    "\n",
    "# Print the solution board if one exists\n",
    "if result:\n",
    "    for row in result:\n",
    "        print(\" \".join(f\"{cell:2}\" for cell in row))\n",
    "else:\n",
    "    print(\"No solution found.\")"
   ]
  }
 ],
 "metadata": {
  "kernelspec": {
   "display_name": "Python 3",
   "language": "python",
   "name": "python3"
  },
  "language_info": {
   "codemirror_mode": {
    "name": "ipython",
    "version": 3
   },
   "file_extension": ".py",
   "mimetype": "text/x-python",
   "name": "python",
   "nbconvert_exporter": "python",
   "pygments_lexer": "ipython3",
   "version": "3.10.15"
  }
 },
 "nbformat": 4,
 "nbformat_minor": 2
}
