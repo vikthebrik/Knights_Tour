{
 "cells": [
  {
   "cell_type": "code",
   "execution_count": 2,
   "metadata": {},
   "outputs": [],
   "source": [
    "import numpy as np\n",
    "import math\n",
    "import random as rng\n",
    "import copy\n",
    "import matplotlib.pyplot as plt"
   ]
  },
  {
   "cell_type": "code",
   "execution_count": 3,
   "metadata": {},
   "outputs": [
    {
     "data": {
      "text/plain": [
       "array([[1., 1., 1., 1., 1., 1., 1., 1., 1.],\n",
       "       [1., 1., 1., 1., 1., 1., 1., 1., 1.],\n",
       "       [1., 1., 0., 0., 0., 0., 0., 1., 1.],\n",
       "       [1., 1., 0., 0., 0., 0., 0., 1., 1.],\n",
       "       [1., 1., 0., 0., 0., 0., 0., 1., 1.],\n",
       "       [1., 1., 0., 0., 0., 0., 0., 1., 1.],\n",
       "       [1., 1., 0., 0., 0., 0., 0., 1., 1.],\n",
       "       [1., 1., 1., 1., 1., 1., 1., 1., 1.],\n",
       "       [1., 1., 1., 1., 1., 1., 1., 1., 1.]])"
      ]
     },
     "execution_count": 3,
     "metadata": {},
     "output_type": "execute_result"
    }
   ],
   "source": [
    "#build the checker board of nxn dimensions (with an outside border)\n",
    "def create_board(n):\n",
    "    board = np.zeros((n+4, n+4))\n",
    "    for i in range(n+4):\n",
    "        for j in range(n+4):\n",
    "\n",
    "            if i == 0 or i == 1 or i == n+3 or i == n+2:\n",
    "                board[i][j] =1\n",
    "\n",
    "            elif j <=1 or j>=n+2:\n",
    "                board[i][j] =1\n",
    "    return board\n",
    "base_plate = create_board(5)\n",
    "base_plate"
   ]
  },
  {
   "cell_type": "code",
   "execution_count": 4,
   "metadata": {},
   "outputs": [
    {
     "data": {
      "text/plain": [
       "array([[1., 1., 1., 1., 1.],\n",
       "       [1., 1., 1., 1., 1.],\n",
       "       [1., 1., 0., 0., 0.],\n",
       "       [1., 1., 0., 0., 0.],\n",
       "       [1., 1., 0., 0., 0.]])"
      ]
     },
     "execution_count": 4,
     "metadata": {},
     "output_type": "execute_result"
    }
   ],
   "source": [
    "#helper function that generates a board around the specified point\n",
    "def sub_board(board, point):\n",
    "    row = point[0]\n",
    "    col = point[1]\n",
    "    \n",
    "    row_bottom = row-2\n",
    "    row_top = row+2\n",
    "    row_slice = np.array(board[row_bottom:row_top+1])# it doesn't include the last element so we add one\n",
    "\n",
    "    col_bottom = col-2\n",
    "    col_top = col+2\n",
    "    sub_tile = row_slice[:,col_bottom:col_top+1]\n",
    "    \n",
    "    return sub_tile\n",
    "sub_board(base_plate, [2, 2])"
   ]
  },
  {
   "cell_type": "code",
   "execution_count": 5,
   "metadata": {},
   "outputs": [
    {
     "data": {
      "text/plain": [
       "[[np.int64(3), np.int64(4)], [np.int64(4), np.int64(3)]]"
      ]
     },
     "execution_count": 5,
     "metadata": {},
     "output_type": "execute_result"
    }
   ],
   "source": [
    "#takes a board and a point and returns a list of valid indices\n",
    "def valid_moves(board, point):\n",
    "    \n",
    "    board_options = np.zeros((5,5))\n",
    "    for i in [0, 1, 3, 4]:\n",
    "        if i == 0 or i == 4:\n",
    "            board_options[i][1] =1\n",
    "            board_options[i][3] =1\n",
    "        elif i == 1 or i == 3:\n",
    "            board_options[i][0] =1\n",
    "            board_options[i][4] =1\n",
    "\n",
    "    x = ~board_options.astype(bool)\n",
    "    board_moves = x.astype(int)\n",
    "\n",
    "    \n",
    "    #grabs a current subboard of entry board and plots avaible and allowed moves\n",
    "    sub_tile = sub_board(board, point)\n",
    "    imposed = (sub_tile.astype(bool) | board_moves.astype(bool)).astype(int)\n",
    "    \n",
    "    #find zero indices with respect to subboard\n",
    "    zero_indices = np.argwhere(imposed == 0)\n",
    "    board_move = []\n",
    "\n",
    "    #convert indices to big board scale\n",
    "    for i in zero_indices:\n",
    "        starting_point = [2, 2]\n",
    "        x = ((starting_point[0] - i[0])*-1)+point[0]\n",
    "        y = ((starting_point[1] - i[1])*-1)+point[1]\n",
    "        board_move.append([x,y])\n",
    "    #return the possible available & allowed move indices in a list\n",
    "    \n",
    "    #if there are no available moves return NONE\n",
    "    if len(board_move) == 0:\n",
    "        pass\n",
    "    \n",
    "    return board_move\n",
    "board_move = valid_moves(base_plate,[2,2])\n",
    "\n",
    "board_move"
   ]
  },
  {
   "cell_type": "code",
   "execution_count": 6,
   "metadata": {},
   "outputs": [
    {
     "data": {
      "text/plain": [
       "[np.int64(3), np.int64(4)]"
      ]
     },
     "execution_count": 6,
     "metadata": {},
     "output_type": "execute_result"
    }
   ],
   "source": [
    "def least_deg(board, move_lst):\n",
    "    deg_seq = []\n",
    "    \n",
    "    if move_lst:\n",
    "        for move in move_lst:\n",
    "            deg = len(valid_moves(board, move))\n",
    "            deg_seq.append(deg)\n",
    "        \n",
    "        # Determine the minimum value in deg_seq\n",
    "        min_deg = min(deg_seq)\n",
    "\n",
    "        # Find all indices in deg_seq with the minimum degree\n",
    "        min_indices = [i for i, deg in enumerate(deg_seq) if deg == min_deg]\n",
    "        \n",
    "        # If there is more than one move with the minimum degree, apply tie-breaker\n",
    "        if len(min_indices) > 1:\n",
    "            secondary_sums = []\n",
    "\n",
    "            for i in min_indices:\n",
    "                move_sum = 0\n",
    "                secondary_moves = valid_moves(board, move_lst[i])\n",
    "                for j in secondary_moves:\n",
    "                    num_moves = len(valid_moves(board, j))\n",
    "                    move_sum += num_moves\n",
    "\n",
    "                secondary_sums.append(move_sum)\n",
    "            \n",
    "            # Find the index of the minimum secondary sum\n",
    "            min_ira_index = secondary_sums.index(min(secondary_sums))\n",
    "            # Return the move corresponding to the min_ira_index in min_indices\n",
    "            return move_lst[min_indices[min_ira_index]]\n",
    "                \n",
    "        # Return the move with the minimum degree\n",
    "        return move_lst[min_indices[0]]\n",
    "    else:\n",
    "        return None\n",
    "\n",
    "# Example usage:\n",
    "least_deg(base_plate, board_move)\n"
   ]
  },
  {
   "cell_type": "code",
   "execution_count": 7,
   "metadata": {},
   "outputs": [
    {
     "data": {
      "text/plain": [
       "array([[1., 1., 1., 1., 1., 1., 1., 1., 1.],\n",
       "       [1., 1., 1., 1., 1., 1., 1., 1., 1.],\n",
       "       [1., 1., 0., 0., 0., 0., 1., 1., 1.],\n",
       "       [1., 1., 0., 0., 0., 0., 0., 1., 1.],\n",
       "       [1., 1., 0., 0., 0., 0., 0., 1., 1.],\n",
       "       [1., 1., 0., 0., 0., 0., 0., 1., 1.],\n",
       "       [1., 1., 0., 0., 0., 0., 0., 1., 1.],\n",
       "       [1., 1., 1., 1., 1., 1., 1., 1., 1.],\n",
       "       [1., 1., 1., 1., 1., 1., 1., 1., 1.]])"
      ]
     },
     "execution_count": 7,
     "metadata": {},
     "output_type": "execute_result"
    }
   ],
   "source": [
    "def adjacent_grid(n):\n",
    "    base = create_board(n)\n",
    "    for i in range(2, n+2):\n",
    "        for j in range(3, n+2, 2):\n",
    "            for k in range(2, n+2, 2):\n",
    "                if i % 2 == 0:\n",
    "                    base[i, j] = 1\n",
    "                else:\n",
    "                    \n",
    "                    base[i, k] = 1\n",
    "    #starting point selected from elements of the same color as the corners\n",
    "    \n",
    "    open_start = np.argwhere(base == 0)\n",
    "    starter_index = np.random.choice(range(0, len(open_start)))\n",
    "    start = open_start[starter_index]\n",
    "    \n",
    "\n",
    "    return start\n",
    "start = adjacent_grid(5)\n",
    "x = create_board(5)\n",
    "x[start[0]][start[1]] = 1\n",
    "\n",
    "x\n",
    "    "
   ]
  },
  {
   "cell_type": "code",
   "execution_count": 8,
   "metadata": {},
   "outputs": [
    {
     "ename": "TypeError",
     "evalue": "'NoneType' object is not subscriptable",
     "output_type": "error",
     "traceback": [
      "\u001b[0;31m---------------------------------------------------------------------------\u001b[0m",
      "\u001b[0;31mTypeError\u001b[0m                                 Traceback (most recent call last)",
      "Cell \u001b[0;32mIn[8], line 32\u001b[0m\n\u001b[1;32m     29\u001b[0m     \u001b[38;5;28;01mreturn\u001b[39;00m no_border, indices\n\u001b[1;32m     31\u001b[0m \u001b[38;5;66;03m#adjusting the \"n\" values adjusts the dimensions of the checker board\u001b[39;00m\n\u001b[0;32m---> 32\u001b[0m results \u001b[38;5;241m=\u001b[39m \u001b[43mWarnsdoff\u001b[49m\u001b[43m(\u001b[49m\u001b[38;5;241;43m400\u001b[39;49m\u001b[43m,\u001b[49m\u001b[43m \u001b[49m\u001b[38;5;241;43m1\u001b[39;49m\u001b[43m)\u001b[49m\n\u001b[1;32m     33\u001b[0m \u001b[38;5;28mprint\u001b[39m(\u001b[38;5;124mf\u001b[39m\u001b[38;5;124m\"\u001b[39m\u001b[38;5;132;01m{\u001b[39;00mresults[\u001b[38;5;241m0\u001b[39m]\u001b[38;5;132;01m}\u001b[39;00m\u001b[38;5;130;01m\\n\u001b[39;00m\u001b[38;5;124m\"\u001b[39m)\n\u001b[1;32m     34\u001b[0m \u001b[38;5;28mprint\u001b[39m(\u001b[38;5;124mf\u001b[39m\u001b[38;5;124m\"\u001b[39m\u001b[38;5;132;01m{\u001b[39;00mresults[\u001b[38;5;241m1\u001b[39m]\u001b[38;5;132;01m}\u001b[39;00m\u001b[38;5;130;01m\\n\u001b[39;00m\u001b[38;5;124m\"\u001b[39m)\n",
      "Cell \u001b[0;32mIn[8], line 22\u001b[0m, in \u001b[0;36mWarnsdoff\u001b[0;34m(n, count)\u001b[0m\n\u001b[1;32m     19\u001b[0m start \u001b[38;5;241m=\u001b[39m deg\n\u001b[1;32m     20\u001b[0m indices\u001b[38;5;241m.\u001b[39mappend(start)\n\u001b[0;32m---> 22\u001b[0m board[\u001b[43mstart\u001b[49m\u001b[43m[\u001b[49m\u001b[38;5;241;43m0\u001b[39;49m\u001b[43m]\u001b[49m][start[\u001b[38;5;241m1\u001b[39m]] \u001b[38;5;241m=\u001b[39m count\n\u001b[1;32m     23\u001b[0m count\u001b[38;5;241m+\u001b[39m\u001b[38;5;241m=\u001b[39m\u001b[38;5;241m1\u001b[39m\n\u001b[1;32m     25\u001b[0m \u001b[38;5;66;03m# print(f\"{board}\\n\")\u001b[39;00m\n",
      "\u001b[0;31mTypeError\u001b[0m: 'NoneType' object is not subscriptable"
     ]
    }
   ],
   "source": [
    "def Warnsdoff(n, count):\n",
    "    #generate board of n dimensions\n",
    "    board = create_board(n)\n",
    "    \n",
    "    #starting point selected from elements of the same color as the corners\n",
    "    start = adjacent_grid(n)\n",
    "    indices = [start]\n",
    "    \n",
    "    #mark starting position with \"count\"\n",
    "    board[start[0], start[1]] = count\n",
    "    count+=1\n",
    "\n",
    "    #loop through available cells\n",
    "    for i in range((n*n)-1):\n",
    "        moves = valid_moves(board, start)\n",
    "        deg = least_deg(board, moves)\n",
    "        if type(deg) == None:\n",
    "            return Warnsdoff(n, count)\n",
    "        start = deg\n",
    "        indices.append(start)\n",
    "\n",
    "        board[start[0]][start[1]] = count\n",
    "        count+=1\n",
    "\n",
    "        # print(f\"{board}\\n\")\n",
    "    border_row = board[len(board) - (len(board)-2):(len(board)-2)]\n",
    "    no_border = (border_row[:,len(board) - (len(board)-2):(len(board)-2)])\n",
    "    \n",
    "    return no_border, indices\n",
    "\n",
    "#adjusting the \"n\" values adjusts the dimensions of the checker board\n",
    "results = Warnsdoff(400, 1)\n",
    "print(f\"{results[0]}\\n\")\n",
    "print(f\"{results[1]}\\n\")\n"
   ]
  },
  {
   "cell_type": "code",
   "execution_count": null,
   "metadata": {},
   "outputs": [],
   "source": []
  }
 ],
 "metadata": {
  "kernelspec": {
   "display_name": "Python 3",
   "language": "python",
   "name": "python3"
  },
  "language_info": {
   "codemirror_mode": {
    "name": "ipython",
    "version": 3
   },
   "file_extension": ".py",
   "mimetype": "text/x-python",
   "name": "python",
   "nbconvert_exporter": "python",
   "pygments_lexer": "ipython3",
   "version": "3.10.15"
  }
 },
 "nbformat": 4,
 "nbformat_minor": 2
}
